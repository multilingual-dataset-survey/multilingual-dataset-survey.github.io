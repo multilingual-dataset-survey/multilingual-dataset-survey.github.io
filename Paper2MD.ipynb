{
 "cells": [
  {
   "cell_type": "code",
   "execution_count": 1,
   "id": "3d5811f5-691f-4f6a-b767-ff5677d31554",
   "metadata": {},
   "outputs": [],
   "source": [
    "import pandas as pd"
   ]
  },
  {
   "cell_type": "code",
   "execution_count": 3,
   "id": "4ae6af31-70d8-431d-97d8-414cb8071a03",
   "metadata": {},
   "outputs": [
    {
     "data": {
      "text/plain": [
       "Index(['dataset name', 'title', 'link to paper', 'data link',\n",
       "       'motivation of the paper writer (how they were originally intended)',\n",
       "       'task type', 'has train data?',\n",
       "       'data size (rough avg # of examples PER language, excluding english)',\n",
       "       'input data source ', 'crowdsource platforms / background (if any)',\n",
       "       'original language', 'input data - automatic processing',\n",
       "       'translation ', 'label source',\n",
       "       'label language (at collection time / language used by annotators)',\n",
       "       'language', 'publication year', 'published venue',\n",
       "       'reusing existing datasets?', 'who created the dataset?', '# citation',\n",
       "       'in_huggingface', 'dataset released?', 'Unnamed: 23', 'Unnamed: 24'],\n",
       "      dtype='object')"
      ]
     },
     "execution_count": 3,
     "metadata": {},
     "output_type": "execute_result"
    }
   ],
   "source": [
    "data = pd.read_csv(\"../multilingual-dataset-survey/standardization.tsv\", sep='\\t')\n",
    "data.columns"
   ]
  },
  {
   "cell_type": "code",
   "execution_count": 14,
   "id": "8460486f-f08d-4a88-baa6-2e2502ee922a",
   "metadata": {},
   "outputs": [],
   "source": [
    "title2link = {}\n",
    "for index, row in data.iterrows():\n",
    "    if str(row['title']) == 'nan':\n",
    "        continue\n",
    "    if str(row['title']) == '156':\n",
    "        continue\n",
    "    title2link[row['title']] = row['link to paper']"
   ]
  },
  {
   "cell_type": "code",
   "execution_count": 15,
   "id": "6861ec23-4b08-4b27-a5b5-39ac3cc743ed",
   "metadata": {},
   "outputs": [],
   "source": [
    "md_string = '''\n",
    "---\n",
    "layout: archive\n",
    "title: \"Papers\"\n",
    "permalink: /datalist/\n",
    "author_profile: false\n",
    "---\n",
    "'''"
   ]
  },
  {
   "cell_type": "code",
   "execution_count": 21,
   "id": "1dc09c1c-05e8-4895-8b72-63814dba5fbd",
   "metadata": {},
   "outputs": [],
   "source": [
    "for title in title2link:\n",
    "    md_string += f'[{title}]({title2link[title]})\\n'"
   ]
  },
  {
   "cell_type": "code",
   "execution_count": 24,
   "id": "8c8decdf-e277-4b00-9a2c-71681c3e3186",
   "metadata": {},
   "outputs": [],
   "source": [
    "with open('_pages/datalist.md', 'w+') as fout:\n",
    "    fout.write(md_string)"
   ]
  },
  {
   "cell_type": "code",
   "execution_count": null,
   "id": "ad921876-8d73-48b5-976f-d9ff8e5aa533",
   "metadata": {},
   "outputs": [],
   "source": []
  }
 ],
 "metadata": {
  "kernelspec": {
   "display_name": "Python 3 (ipykernel)",
   "language": "python",
   "name": "python3"
  },
  "language_info": {
   "codemirror_mode": {
    "name": "ipython",
    "version": 3
   },
   "file_extension": ".py",
   "mimetype": "text/x-python",
   "name": "python",
   "nbconvert_exporter": "python",
   "pygments_lexer": "ipython3",
   "version": "3.8.11"
  }
 },
 "nbformat": 4,
 "nbformat_minor": 5
}
